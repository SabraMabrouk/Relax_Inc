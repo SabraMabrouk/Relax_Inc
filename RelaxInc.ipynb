{
 "cells": [
  {
   "cell_type": "code",
   "execution_count": 267,
   "id": "c596647a-f704-46e5-8a4b-012972242aeb",
   "metadata": {},
   "outputs": [],
   "source": [
    "#pip install imblearn"
   ]
  },
  {
   "cell_type": "code",
   "execution_count": 268,
   "id": "b2976668-ed63-4c19-b1b1-1ba87c833906",
   "metadata": {},
   "outputs": [],
   "source": [
    "import numpy as np\n",
    "import pandas as pd\n",
    "import matplotlib.pyplot as plt\n",
    "import seaborn as sns\n",
    "\n",
    "from sklearn.model_selection import train_test_split,cross_val_score\n",
    "from imblearn.under_sampling import RandomUnderSampler\n",
    "from sklearn.ensemble import RandomForestClassifier\n",
    "from sklearn.metrics import accuracy_score\n",
    "from sklearn.model_selection import StratifiedKFold"
   ]
  },
  {
   "cell_type": "markdown",
   "id": "f86dfc0c-e257-4f75-a24f-f2bb816d3a02",
   "metadata": {},
   "source": [
    "# Load the data"
   ]
  },
  {
   "cell_type": "code",
   "execution_count": 269,
   "id": "0c1f8de2-d87c-45e0-85cd-71b5c12db954",
   "metadata": {},
   "outputs": [
    {
     "name": "stdout",
     "output_type": "stream",
     "text": [
      "(12000, 10)\n"
     ]
    },
    {
     "data": {
      "text/html": [
       "<div>\n",
       "<style scoped>\n",
       "    .dataframe tbody tr th:only-of-type {\n",
       "        vertical-align: middle;\n",
       "    }\n",
       "\n",
       "    .dataframe tbody tr th {\n",
       "        vertical-align: top;\n",
       "    }\n",
       "\n",
       "    .dataframe thead th {\n",
       "        text-align: right;\n",
       "    }\n",
       "</style>\n",
       "<table border=\"1\" class=\"dataframe\">\n",
       "  <thead>\n",
       "    <tr style=\"text-align: right;\">\n",
       "      <th></th>\n",
       "      <th>object_id</th>\n",
       "      <th>creation_time</th>\n",
       "      <th>name</th>\n",
       "      <th>email</th>\n",
       "      <th>creation_source</th>\n",
       "      <th>last_session_creation_time</th>\n",
       "      <th>opted_in_to_mailing_list</th>\n",
       "      <th>enabled_for_marketing_drip</th>\n",
       "      <th>org_id</th>\n",
       "      <th>invited_by_user_id</th>\n",
       "    </tr>\n",
       "  </thead>\n",
       "  <tbody>\n",
       "    <tr>\n",
       "      <th>0</th>\n",
       "      <td>1</td>\n",
       "      <td>2014-04-22 03:53:30</td>\n",
       "      <td>Clausen August</td>\n",
       "      <td>AugustCClausen@yahoo.com</td>\n",
       "      <td>GUEST_INVITE</td>\n",
       "      <td>1.398139e+09</td>\n",
       "      <td>1</td>\n",
       "      <td>0</td>\n",
       "      <td>11</td>\n",
       "      <td>10803.0</td>\n",
       "    </tr>\n",
       "    <tr>\n",
       "      <th>1</th>\n",
       "      <td>2</td>\n",
       "      <td>2013-11-15 03:45:04</td>\n",
       "      <td>Poole Matthew</td>\n",
       "      <td>MatthewPoole@gustr.com</td>\n",
       "      <td>ORG_INVITE</td>\n",
       "      <td>1.396238e+09</td>\n",
       "      <td>0</td>\n",
       "      <td>0</td>\n",
       "      <td>1</td>\n",
       "      <td>316.0</td>\n",
       "    </tr>\n",
       "    <tr>\n",
       "      <th>2</th>\n",
       "      <td>3</td>\n",
       "      <td>2013-03-19 23:14:52</td>\n",
       "      <td>Bottrill Mitchell</td>\n",
       "      <td>MitchellBottrill@gustr.com</td>\n",
       "      <td>ORG_INVITE</td>\n",
       "      <td>1.363735e+09</td>\n",
       "      <td>0</td>\n",
       "      <td>0</td>\n",
       "      <td>94</td>\n",
       "      <td>1525.0</td>\n",
       "    </tr>\n",
       "    <tr>\n",
       "      <th>3</th>\n",
       "      <td>4</td>\n",
       "      <td>2013-05-21 08:09:28</td>\n",
       "      <td>Clausen Nicklas</td>\n",
       "      <td>NicklasSClausen@yahoo.com</td>\n",
       "      <td>GUEST_INVITE</td>\n",
       "      <td>1.369210e+09</td>\n",
       "      <td>0</td>\n",
       "      <td>0</td>\n",
       "      <td>1</td>\n",
       "      <td>5151.0</td>\n",
       "    </tr>\n",
       "    <tr>\n",
       "      <th>4</th>\n",
       "      <td>5</td>\n",
       "      <td>2013-01-17 10:14:20</td>\n",
       "      <td>Raw Grace</td>\n",
       "      <td>GraceRaw@yahoo.com</td>\n",
       "      <td>GUEST_INVITE</td>\n",
       "      <td>1.358850e+09</td>\n",
       "      <td>0</td>\n",
       "      <td>0</td>\n",
       "      <td>193</td>\n",
       "      <td>5240.0</td>\n",
       "    </tr>\n",
       "  </tbody>\n",
       "</table>\n",
       "</div>"
      ],
      "text/plain": [
       "   object_id        creation_time               name  \\\n",
       "0          1  2014-04-22 03:53:30     Clausen August   \n",
       "1          2  2013-11-15 03:45:04      Poole Matthew   \n",
       "2          3  2013-03-19 23:14:52  Bottrill Mitchell   \n",
       "3          4  2013-05-21 08:09:28    Clausen Nicklas   \n",
       "4          5  2013-01-17 10:14:20          Raw Grace   \n",
       "\n",
       "                        email creation_source  last_session_creation_time  \\\n",
       "0    AugustCClausen@yahoo.com    GUEST_INVITE                1.398139e+09   \n",
       "1      MatthewPoole@gustr.com      ORG_INVITE                1.396238e+09   \n",
       "2  MitchellBottrill@gustr.com      ORG_INVITE                1.363735e+09   \n",
       "3   NicklasSClausen@yahoo.com    GUEST_INVITE                1.369210e+09   \n",
       "4          GraceRaw@yahoo.com    GUEST_INVITE                1.358850e+09   \n",
       "\n",
       "   opted_in_to_mailing_list  enabled_for_marketing_drip  org_id  \\\n",
       "0                         1                           0      11   \n",
       "1                         0                           0       1   \n",
       "2                         0                           0      94   \n",
       "3                         0                           0       1   \n",
       "4                         0                           0     193   \n",
       "\n",
       "   invited_by_user_id  \n",
       "0             10803.0  \n",
       "1               316.0  \n",
       "2              1525.0  \n",
       "3              5151.0  \n",
       "4              5240.0  "
      ]
     },
     "execution_count": 269,
     "metadata": {},
     "output_type": "execute_result"
    }
   ],
   "source": [
    "df_users = pd.read_csv('./data/takehome_users.csv',encoding='latin1')\n",
    "print(df_users.shape)\n",
    "df_users.head()"
   ]
  },
  {
   "cell_type": "code",
   "execution_count": 270,
   "id": "ce37b29c-d739-4b53-8ef0-7009678e7f87",
   "metadata": {},
   "outputs": [
    {
     "name": "stdout",
     "output_type": "stream",
     "text": [
      "(207917, 3)\n"
     ]
    },
    {
     "data": {
      "text/html": [
       "<div>\n",
       "<style scoped>\n",
       "    .dataframe tbody tr th:only-of-type {\n",
       "        vertical-align: middle;\n",
       "    }\n",
       "\n",
       "    .dataframe tbody tr th {\n",
       "        vertical-align: top;\n",
       "    }\n",
       "\n",
       "    .dataframe thead th {\n",
       "        text-align: right;\n",
       "    }\n",
       "</style>\n",
       "<table border=\"1\" class=\"dataframe\">\n",
       "  <thead>\n",
       "    <tr style=\"text-align: right;\">\n",
       "      <th></th>\n",
       "      <th>time_stamp</th>\n",
       "      <th>user_id</th>\n",
       "      <th>visited</th>\n",
       "    </tr>\n",
       "  </thead>\n",
       "  <tbody>\n",
       "    <tr>\n",
       "      <th>0</th>\n",
       "      <td>2014-04-22 03:53:30</td>\n",
       "      <td>1</td>\n",
       "      <td>1</td>\n",
       "    </tr>\n",
       "    <tr>\n",
       "      <th>1</th>\n",
       "      <td>2013-11-15 03:45:04</td>\n",
       "      <td>2</td>\n",
       "      <td>1</td>\n",
       "    </tr>\n",
       "    <tr>\n",
       "      <th>2</th>\n",
       "      <td>2013-11-29 03:45:04</td>\n",
       "      <td>2</td>\n",
       "      <td>1</td>\n",
       "    </tr>\n",
       "    <tr>\n",
       "      <th>3</th>\n",
       "      <td>2013-12-09 03:45:04</td>\n",
       "      <td>2</td>\n",
       "      <td>1</td>\n",
       "    </tr>\n",
       "    <tr>\n",
       "      <th>4</th>\n",
       "      <td>2013-12-25 03:45:04</td>\n",
       "      <td>2</td>\n",
       "      <td>1</td>\n",
       "    </tr>\n",
       "  </tbody>\n",
       "</table>\n",
       "</div>"
      ],
      "text/plain": [
       "            time_stamp  user_id  visited\n",
       "0  2014-04-22 03:53:30        1        1\n",
       "1  2013-11-15 03:45:04        2        1\n",
       "2  2013-11-29 03:45:04        2        1\n",
       "3  2013-12-09 03:45:04        2        1\n",
       "4  2013-12-25 03:45:04        2        1"
      ]
     },
     "execution_count": 270,
     "metadata": {},
     "output_type": "execute_result"
    }
   ],
   "source": [
    "df_users_eng = pd.read_csv('./data/takehome_user_engagement.csv',encoding='latin1')\n",
    "print(df_users_eng.shape)\n",
    "df_users_eng.head()"
   ]
  },
  {
   "cell_type": "markdown",
   "id": "70edacdf-5b76-40b1-9a48-002c36ec2e7f",
   "metadata": {},
   "source": [
    "# Data wrangling"
   ]
  },
  {
   "cell_type": "code",
   "execution_count": 271,
   "id": "e65a65e4-4f81-41db-87c9-f3ab943aa81f",
   "metadata": {},
   "outputs": [],
   "source": [
    "df_users['creation_time'] = pd.to_datetime(df_users['creation_time'])\n",
    "df_users['last_session_creation_time'] = pd.to_datetime(df_users['last_session_creation_time'],unit='s')"
   ]
  },
  {
   "cell_type": "code",
   "execution_count": 272,
   "id": "f4d7dbc7-7858-489d-88da-b779eb3d1ef8",
   "metadata": {},
   "outputs": [
    {
     "data": {
      "text/plain": [
       "object_id                              int64\n",
       "creation_time                 datetime64[ns]\n",
       "name                                  object\n",
       "email                                 object\n",
       "creation_source                       object\n",
       "last_session_creation_time    datetime64[ns]\n",
       "opted_in_to_mailing_list               int64\n",
       "enabled_for_marketing_drip             int64\n",
       "org_id                                 int64\n",
       "invited_by_user_id                   float64\n",
       "dtype: object"
      ]
     },
     "execution_count": 272,
     "metadata": {},
     "output_type": "execute_result"
    }
   ],
   "source": [
    "df_users.dtypes"
   ]
  },
  {
   "cell_type": "code",
   "execution_count": 273,
   "id": "7b962444-920e-4e5f-9526-38716edfe9a6",
   "metadata": {},
   "outputs": [],
   "source": [
    "df_users_eng['time_stamp'] = pd.to_datetime(df_users_eng['time_stamp'])"
   ]
  },
  {
   "cell_type": "code",
   "execution_count": 274,
   "id": "907f3280-d2a3-442d-a2f1-b8f9a5a42c89",
   "metadata": {},
   "outputs": [
    {
     "data": {
      "text/plain": [
       "time_stamp    datetime64[ns]\n",
       "user_id                int64\n",
       "visited                int64\n",
       "dtype: object"
      ]
     },
     "execution_count": 274,
     "metadata": {},
     "output_type": "execute_result"
    }
   ],
   "source": [
    "df_users_eng.dtypes"
   ]
  },
  {
   "cell_type": "code",
   "execution_count": 275,
   "id": "21f81c35-0f13-4e71-83cb-aa6da3a7dc5b",
   "metadata": {},
   "outputs": [
    {
     "data": {
      "text/plain": [
       "object_id                        0\n",
       "creation_time                    0\n",
       "name                             0\n",
       "email                            0\n",
       "creation_source                  0\n",
       "last_session_creation_time    3177\n",
       "opted_in_to_mailing_list         0\n",
       "enabled_for_marketing_drip       0\n",
       "org_id                           0\n",
       "invited_by_user_id            5583\n",
       "dtype: int64"
      ]
     },
     "execution_count": 275,
     "metadata": {},
     "output_type": "execute_result"
    }
   ],
   "source": [
    "df_users.isna().sum()"
   ]
  },
  {
   "cell_type": "code",
   "execution_count": 276,
   "id": "3e47c65f-046d-4ac8-967c-e3babf298fbb",
   "metadata": {},
   "outputs": [
    {
     "data": {
      "text/plain": [
       "time_stamp    0\n",
       "user_id       0\n",
       "visited       0\n",
       "dtype: int64"
      ]
     },
     "execution_count": 276,
     "metadata": {},
     "output_type": "execute_result"
    }
   ],
   "source": [
    "df_users_eng.isna().sum()"
   ]
  },
  {
   "cell_type": "code",
   "execution_count": 277,
   "id": "e9186f45-176d-4944-8d00-0b056477b5ee",
   "metadata": {},
   "outputs": [
    {
     "data": {
      "text/plain": [
       "object_id                       0\n",
       "creation_time                   0\n",
       "name                            0\n",
       "email                           0\n",
       "creation_source                 0\n",
       "last_session_creation_time    811\n",
       "opted_in_to_mailing_list        0\n",
       "enabled_for_marketing_drip      0\n",
       "org_id                          0\n",
       "invited_by_user_id              0\n",
       "dtype: int64"
      ]
     },
     "execution_count": 277,
     "metadata": {},
     "output_type": "execute_result"
    }
   ],
   "source": [
    "# fill null value of last_session_creation_time in df_users with data from df_users_eng\n",
    "last_session_df = df_users_eng.groupby('user_id')['time_stamp'].max().reset_index()\n",
    "last_session_df = last_session_df.rename(columns={'time_stamp': 'last_session_creation_time'})\n",
    "df_users['last_session_creation_time'] = df_users['last_session_creation_time'].fillna(last_session_df['last_session_creation_time'])\n",
    "\n",
    "# If there is no invitation from other user, we fill it with 0\n",
    "df_users['invited_by_user_id'] = df_users['invited_by_user_id'].fillna(0)\n",
    "\n",
    "df_users.isna().sum()\t"
   ]
  },
  {
   "cell_type": "markdown",
   "id": "2d167725-969b-4f50-92f2-d7f0c8a75c4f",
   "metadata": {},
   "source": [
    "we are going to fill the rest of the missing values in last_session_creation_time with their corresponding creation_time "
   ]
  },
  {
   "cell_type": "code",
   "execution_count": 278,
   "id": "3075ee18-60a5-4db8-a5ec-5321206ffb1b",
   "metadata": {},
   "outputs": [
    {
     "data": {
      "text/plain": [
       "object_id                     0\n",
       "creation_time                 0\n",
       "name                          0\n",
       "email                         0\n",
       "creation_source               0\n",
       "last_session_creation_time    0\n",
       "opted_in_to_mailing_list      0\n",
       "enabled_for_marketing_drip    0\n",
       "org_id                        0\n",
       "invited_by_user_id            0\n",
       "dtype: int64"
      ]
     },
     "execution_count": 278,
     "metadata": {},
     "output_type": "execute_result"
    }
   ],
   "source": [
    "df_users['last_session_creation_time'] = df_users['last_session_creation_time'].fillna(df_users['creation_time'])\n",
    "df_users.isna().sum()"
   ]
  },
  {
   "cell_type": "markdown",
   "id": "8b99b140-d910-4861-a9a9-35a67fe932a8",
   "metadata": {},
   "source": [
    "# Create the target variable: user adoption"
   ]
  },
  {
   "cell_type": "code",
   "execution_count": 279,
   "id": "b359ee6f-212b-4975-b4cd-e9b3eeead62f",
   "metadata": {},
   "outputs": [
    {
     "data": {
      "text/plain": [
       "Index([    2,    10,    20,    33,    42,    43,    50,    53,    59,    60,\n",
       "       ...\n",
       "       11961, 11964, 11965, 11967, 11969, 11975, 11980, 11981, 11988, 11991],\n",
       "      dtype='int64', name='user_id', length=2248)"
      ]
     },
     "execution_count": 279,
     "metadata": {},
     "output_type": "execute_result"
    }
   ],
   "source": [
    "login_days = df_users_eng.groupby('user_id')['time_stamp'].nunique()\n",
    "\n",
    "active_users = login_days[login_days >= 3].index\n",
    "active_users"
   ]
  },
  {
   "cell_type": "code",
   "execution_count": 280,
   "id": "fc2625e2-f015-4f55-85f6-435721324467",
   "metadata": {},
   "outputs": [],
   "source": [
    "def has_three_logins_in_seven_days(user_logins):\n",
    "    user_logins = sorted(user_logins)\n",
    "    for i in range(len(user_logins) - 2):\n",
    "        for j in range(i + 2, len(user_logins)):\n",
    "            if (user_logins[j] - user_logins[i]).days <= 7:\n",
    "                return True\n",
    "    return False\n",
    "\n",
    "adopted_users = []\n",
    "for user_id in active_users:\n",
    "    user_logins = df_users_eng[df_users_eng['user_id'] == user_id]['time_stamp'].unique()\n",
    "    if has_three_logins_in_seven_days(user_logins):\n",
    "        adopted_users.append(user_id)\n",
    "\n",
    "df_users['adopted'] = df_users['object_id'].apply(lambda x: 1 if x in adopted_users else 0)"
   ]
  },
  {
   "cell_type": "code",
   "execution_count": 281,
   "id": "0d868249-4db1-4421-9ed0-04df861f523d",
   "metadata": {},
   "outputs": [
    {
     "data": {
      "text/html": [
       "<div>\n",
       "<style scoped>\n",
       "    .dataframe tbody tr th:only-of-type {\n",
       "        vertical-align: middle;\n",
       "    }\n",
       "\n",
       "    .dataframe tbody tr th {\n",
       "        vertical-align: top;\n",
       "    }\n",
       "\n",
       "    .dataframe thead th {\n",
       "        text-align: right;\n",
       "    }\n",
       "</style>\n",
       "<table border=\"1\" class=\"dataframe\">\n",
       "  <thead>\n",
       "    <tr style=\"text-align: right;\">\n",
       "      <th></th>\n",
       "      <th>object_id</th>\n",
       "      <th>creation_time</th>\n",
       "      <th>name</th>\n",
       "      <th>email</th>\n",
       "      <th>creation_source</th>\n",
       "      <th>last_session_creation_time</th>\n",
       "      <th>opted_in_to_mailing_list</th>\n",
       "      <th>enabled_for_marketing_drip</th>\n",
       "      <th>org_id</th>\n",
       "      <th>invited_by_user_id</th>\n",
       "      <th>adopted</th>\n",
       "    </tr>\n",
       "  </thead>\n",
       "  <tbody>\n",
       "    <tr>\n",
       "      <th>0</th>\n",
       "      <td>1</td>\n",
       "      <td>2014-04-22 03:53:30</td>\n",
       "      <td>Clausen August</td>\n",
       "      <td>AugustCClausen@yahoo.com</td>\n",
       "      <td>GUEST_INVITE</td>\n",
       "      <td>2014-04-22 03:53:30</td>\n",
       "      <td>1</td>\n",
       "      <td>0</td>\n",
       "      <td>11</td>\n",
       "      <td>10803.0</td>\n",
       "      <td>0</td>\n",
       "    </tr>\n",
       "    <tr>\n",
       "      <th>1</th>\n",
       "      <td>2</td>\n",
       "      <td>2013-11-15 03:45:04</td>\n",
       "      <td>Poole Matthew</td>\n",
       "      <td>MatthewPoole@gustr.com</td>\n",
       "      <td>ORG_INVITE</td>\n",
       "      <td>2014-03-31 03:45:04</td>\n",
       "      <td>0</td>\n",
       "      <td>0</td>\n",
       "      <td>1</td>\n",
       "      <td>316.0</td>\n",
       "      <td>1</td>\n",
       "    </tr>\n",
       "    <tr>\n",
       "      <th>2</th>\n",
       "      <td>3</td>\n",
       "      <td>2013-03-19 23:14:52</td>\n",
       "      <td>Bottrill Mitchell</td>\n",
       "      <td>MitchellBottrill@gustr.com</td>\n",
       "      <td>ORG_INVITE</td>\n",
       "      <td>2013-03-19 23:14:52</td>\n",
       "      <td>0</td>\n",
       "      <td>0</td>\n",
       "      <td>94</td>\n",
       "      <td>1525.0</td>\n",
       "      <td>0</td>\n",
       "    </tr>\n",
       "    <tr>\n",
       "      <th>3</th>\n",
       "      <td>4</td>\n",
       "      <td>2013-05-21 08:09:28</td>\n",
       "      <td>Clausen Nicklas</td>\n",
       "      <td>NicklasSClausen@yahoo.com</td>\n",
       "      <td>GUEST_INVITE</td>\n",
       "      <td>2013-05-22 08:09:28</td>\n",
       "      <td>0</td>\n",
       "      <td>0</td>\n",
       "      <td>1</td>\n",
       "      <td>5151.0</td>\n",
       "      <td>0</td>\n",
       "    </tr>\n",
       "    <tr>\n",
       "      <th>4</th>\n",
       "      <td>5</td>\n",
       "      <td>2013-01-17 10:14:20</td>\n",
       "      <td>Raw Grace</td>\n",
       "      <td>GraceRaw@yahoo.com</td>\n",
       "      <td>GUEST_INVITE</td>\n",
       "      <td>2013-01-22 10:14:20</td>\n",
       "      <td>0</td>\n",
       "      <td>0</td>\n",
       "      <td>193</td>\n",
       "      <td>5240.0</td>\n",
       "      <td>0</td>\n",
       "    </tr>\n",
       "  </tbody>\n",
       "</table>\n",
       "</div>"
      ],
      "text/plain": [
       "   object_id       creation_time               name  \\\n",
       "0          1 2014-04-22 03:53:30     Clausen August   \n",
       "1          2 2013-11-15 03:45:04      Poole Matthew   \n",
       "2          3 2013-03-19 23:14:52  Bottrill Mitchell   \n",
       "3          4 2013-05-21 08:09:28    Clausen Nicklas   \n",
       "4          5 2013-01-17 10:14:20          Raw Grace   \n",
       "\n",
       "                        email creation_source last_session_creation_time  \\\n",
       "0    AugustCClausen@yahoo.com    GUEST_INVITE        2014-04-22 03:53:30   \n",
       "1      MatthewPoole@gustr.com      ORG_INVITE        2014-03-31 03:45:04   \n",
       "2  MitchellBottrill@gustr.com      ORG_INVITE        2013-03-19 23:14:52   \n",
       "3   NicklasSClausen@yahoo.com    GUEST_INVITE        2013-05-22 08:09:28   \n",
       "4          GraceRaw@yahoo.com    GUEST_INVITE        2013-01-22 10:14:20   \n",
       "\n",
       "   opted_in_to_mailing_list  enabled_for_marketing_drip  org_id  \\\n",
       "0                         1                           0      11   \n",
       "1                         0                           0       1   \n",
       "2                         0                           0      94   \n",
       "3                         0                           0       1   \n",
       "4                         0                           0     193   \n",
       "\n",
       "   invited_by_user_id  adopted  \n",
       "0             10803.0        0  \n",
       "1               316.0        1  \n",
       "2              1525.0        0  \n",
       "3              5151.0        0  \n",
       "4              5240.0        0  "
      ]
     },
     "execution_count": 281,
     "metadata": {},
     "output_type": "execute_result"
    }
   ],
   "source": [
    "df_users.head(5)"
   ]
  },
  {
   "cell_type": "markdown",
   "id": "2f8af612-aa82-4c3c-a192-2a27e7df5745",
   "metadata": {},
   "source": [
    "# Feature engineering\n",
    "\n",
    "We propose adding the total number of logins as a new features."
   ]
  },
  {
   "cell_type": "code",
   "execution_count": 282,
   "id": "77af527a-920a-4d9c-97c0-9f6628ebbfc9",
   "metadata": {
    "scrolled": true
   },
   "outputs": [
    {
     "data": {
      "text/html": [
       "<div>\n",
       "<style scoped>\n",
       "    .dataframe tbody tr th:only-of-type {\n",
       "        vertical-align: middle;\n",
       "    }\n",
       "\n",
       "    .dataframe tbody tr th {\n",
       "        vertical-align: top;\n",
       "    }\n",
       "\n",
       "    .dataframe thead th {\n",
       "        text-align: right;\n",
       "    }\n",
       "</style>\n",
       "<table border=\"1\" class=\"dataframe\">\n",
       "  <thead>\n",
       "    <tr style=\"text-align: right;\">\n",
       "      <th></th>\n",
       "      <th>object_id</th>\n",
       "      <th>creation_time</th>\n",
       "      <th>name</th>\n",
       "      <th>email</th>\n",
       "      <th>creation_source</th>\n",
       "      <th>last_session_creation_time</th>\n",
       "      <th>opted_in_to_mailing_list</th>\n",
       "      <th>enabled_for_marketing_drip</th>\n",
       "      <th>org_id</th>\n",
       "      <th>invited_by_user_id</th>\n",
       "      <th>adopted</th>\n",
       "      <th>total_logins</th>\n",
       "    </tr>\n",
       "  </thead>\n",
       "  <tbody>\n",
       "    <tr>\n",
       "      <th>0</th>\n",
       "      <td>1</td>\n",
       "      <td>2014-04-22 03:53:30</td>\n",
       "      <td>Clausen August</td>\n",
       "      <td>AugustCClausen@yahoo.com</td>\n",
       "      <td>GUEST_INVITE</td>\n",
       "      <td>2014-04-22 03:53:30</td>\n",
       "      <td>1</td>\n",
       "      <td>0</td>\n",
       "      <td>11</td>\n",
       "      <td>10803.0</td>\n",
       "      <td>0</td>\n",
       "      <td>1.0</td>\n",
       "    </tr>\n",
       "    <tr>\n",
       "      <th>1</th>\n",
       "      <td>2</td>\n",
       "      <td>2013-11-15 03:45:04</td>\n",
       "      <td>Poole Matthew</td>\n",
       "      <td>MatthewPoole@gustr.com</td>\n",
       "      <td>ORG_INVITE</td>\n",
       "      <td>2014-03-31 03:45:04</td>\n",
       "      <td>0</td>\n",
       "      <td>0</td>\n",
       "      <td>1</td>\n",
       "      <td>316.0</td>\n",
       "      <td>1</td>\n",
       "      <td>14.0</td>\n",
       "    </tr>\n",
       "    <tr>\n",
       "      <th>2</th>\n",
       "      <td>3</td>\n",
       "      <td>2013-03-19 23:14:52</td>\n",
       "      <td>Bottrill Mitchell</td>\n",
       "      <td>MitchellBottrill@gustr.com</td>\n",
       "      <td>ORG_INVITE</td>\n",
       "      <td>2013-03-19 23:14:52</td>\n",
       "      <td>0</td>\n",
       "      <td>0</td>\n",
       "      <td>94</td>\n",
       "      <td>1525.0</td>\n",
       "      <td>0</td>\n",
       "      <td>1.0</td>\n",
       "    </tr>\n",
       "    <tr>\n",
       "      <th>3</th>\n",
       "      <td>4</td>\n",
       "      <td>2013-05-21 08:09:28</td>\n",
       "      <td>Clausen Nicklas</td>\n",
       "      <td>NicklasSClausen@yahoo.com</td>\n",
       "      <td>GUEST_INVITE</td>\n",
       "      <td>2013-05-22 08:09:28</td>\n",
       "      <td>0</td>\n",
       "      <td>0</td>\n",
       "      <td>1</td>\n",
       "      <td>5151.0</td>\n",
       "      <td>0</td>\n",
       "      <td>1.0</td>\n",
       "    </tr>\n",
       "    <tr>\n",
       "      <th>4</th>\n",
       "      <td>5</td>\n",
       "      <td>2013-01-17 10:14:20</td>\n",
       "      <td>Raw Grace</td>\n",
       "      <td>GraceRaw@yahoo.com</td>\n",
       "      <td>GUEST_INVITE</td>\n",
       "      <td>2013-01-22 10:14:20</td>\n",
       "      <td>0</td>\n",
       "      <td>0</td>\n",
       "      <td>193</td>\n",
       "      <td>5240.0</td>\n",
       "      <td>0</td>\n",
       "      <td>1.0</td>\n",
       "    </tr>\n",
       "  </tbody>\n",
       "</table>\n",
       "</div>"
      ],
      "text/plain": [
       "   object_id       creation_time               name  \\\n",
       "0          1 2014-04-22 03:53:30     Clausen August   \n",
       "1          2 2013-11-15 03:45:04      Poole Matthew   \n",
       "2          3 2013-03-19 23:14:52  Bottrill Mitchell   \n",
       "3          4 2013-05-21 08:09:28    Clausen Nicklas   \n",
       "4          5 2013-01-17 10:14:20          Raw Grace   \n",
       "\n",
       "                        email creation_source last_session_creation_time  \\\n",
       "0    AugustCClausen@yahoo.com    GUEST_INVITE        2014-04-22 03:53:30   \n",
       "1      MatthewPoole@gustr.com      ORG_INVITE        2014-03-31 03:45:04   \n",
       "2  MitchellBottrill@gustr.com      ORG_INVITE        2013-03-19 23:14:52   \n",
       "3   NicklasSClausen@yahoo.com    GUEST_INVITE        2013-05-22 08:09:28   \n",
       "4          GraceRaw@yahoo.com    GUEST_INVITE        2013-01-22 10:14:20   \n",
       "\n",
       "   opted_in_to_mailing_list  enabled_for_marketing_drip  org_id  \\\n",
       "0                         1                           0      11   \n",
       "1                         0                           0       1   \n",
       "2                         0                           0      94   \n",
       "3                         0                           0       1   \n",
       "4                         0                           0     193   \n",
       "\n",
       "   invited_by_user_id  adopted  total_logins  \n",
       "0             10803.0        0           1.0  \n",
       "1               316.0        1          14.0  \n",
       "2              1525.0        0           1.0  \n",
       "3              5151.0        0           1.0  \n",
       "4              5240.0        0           1.0  "
      ]
     },
     "execution_count": 282,
     "metadata": {},
     "output_type": "execute_result"
    }
   ],
   "source": [
    "total_logins = df_users_eng.groupby('user_id')['time_stamp'].count().reset_index()\n",
    "total_logins = total_logins.rename(columns={'time_stamp': 'total_logins'})\n",
    "df_users = pd.merge(df_users, total_logins, left_on='object_id', right_on='user_id', how='left')\n",
    "df_users.drop(columns=['user_id'],inplace=True)\n",
    "df_users.head()"
   ]
  },
  {
   "cell_type": "code",
   "execution_count": 283,
   "id": "c27093d8-db18-47a8-84ef-31eee8e4d2d2",
   "metadata": {},
   "outputs": [],
   "source": [
    "df_users['total_logins'] = df_users['total_logins'].fillna(0)"
   ]
  },
  {
   "cell_type": "code",
   "execution_count": 284,
   "id": "0053b7d9-0d0b-466a-a12a-06eddf8d859e",
   "metadata": {},
   "outputs": [
    {
     "data": {
      "text/html": [
       "<div>\n",
       "<style scoped>\n",
       "    .dataframe tbody tr th:only-of-type {\n",
       "        vertical-align: middle;\n",
       "    }\n",
       "\n",
       "    .dataframe tbody tr th {\n",
       "        vertical-align: top;\n",
       "    }\n",
       "\n",
       "    .dataframe thead th {\n",
       "        text-align: right;\n",
       "    }\n",
       "</style>\n",
       "<table border=\"1\" class=\"dataframe\">\n",
       "  <thead>\n",
       "    <tr style=\"text-align: right;\">\n",
       "      <th></th>\n",
       "      <th>object_id</th>\n",
       "      <th>creation_time</th>\n",
       "      <th>name</th>\n",
       "      <th>email</th>\n",
       "      <th>creation_source</th>\n",
       "      <th>last_session_creation_time</th>\n",
       "      <th>opted_in_to_mailing_list</th>\n",
       "      <th>enabled_for_marketing_drip</th>\n",
       "      <th>org_id</th>\n",
       "      <th>invited_by_user_id</th>\n",
       "      <th>adopted</th>\n",
       "      <th>total_logins</th>\n",
       "      <th>avg_days_between_logins</th>\n",
       "    </tr>\n",
       "  </thead>\n",
       "  <tbody>\n",
       "    <tr>\n",
       "      <th>0</th>\n",
       "      <td>1</td>\n",
       "      <td>2014-04-22 03:53:30</td>\n",
       "      <td>Clausen August</td>\n",
       "      <td>AugustCClausen@yahoo.com</td>\n",
       "      <td>GUEST_INVITE</td>\n",
       "      <td>2014-04-22 03:53:30</td>\n",
       "      <td>1</td>\n",
       "      <td>0</td>\n",
       "      <td>11</td>\n",
       "      <td>10803.0</td>\n",
       "      <td>0</td>\n",
       "      <td>1.0</td>\n",
       "      <td>0.000000</td>\n",
       "    </tr>\n",
       "    <tr>\n",
       "      <th>1</th>\n",
       "      <td>2</td>\n",
       "      <td>2013-11-15 03:45:04</td>\n",
       "      <td>Poole Matthew</td>\n",
       "      <td>MatthewPoole@gustr.com</td>\n",
       "      <td>ORG_INVITE</td>\n",
       "      <td>2014-03-31 03:45:04</td>\n",
       "      <td>0</td>\n",
       "      <td>0</td>\n",
       "      <td>1</td>\n",
       "      <td>316.0</td>\n",
       "      <td>1</td>\n",
       "      <td>14.0</td>\n",
       "      <td>9.714286</td>\n",
       "    </tr>\n",
       "    <tr>\n",
       "      <th>2</th>\n",
       "      <td>3</td>\n",
       "      <td>2013-03-19 23:14:52</td>\n",
       "      <td>Bottrill Mitchell</td>\n",
       "      <td>MitchellBottrill@gustr.com</td>\n",
       "      <td>ORG_INVITE</td>\n",
       "      <td>2013-03-19 23:14:52</td>\n",
       "      <td>0</td>\n",
       "      <td>0</td>\n",
       "      <td>94</td>\n",
       "      <td>1525.0</td>\n",
       "      <td>0</td>\n",
       "      <td>1.0</td>\n",
       "      <td>0.000000</td>\n",
       "    </tr>\n",
       "    <tr>\n",
       "      <th>3</th>\n",
       "      <td>4</td>\n",
       "      <td>2013-05-21 08:09:28</td>\n",
       "      <td>Clausen Nicklas</td>\n",
       "      <td>NicklasSClausen@yahoo.com</td>\n",
       "      <td>GUEST_INVITE</td>\n",
       "      <td>2013-05-22 08:09:28</td>\n",
       "      <td>0</td>\n",
       "      <td>0</td>\n",
       "      <td>1</td>\n",
       "      <td>5151.0</td>\n",
       "      <td>0</td>\n",
       "      <td>1.0</td>\n",
       "      <td>0.000000</td>\n",
       "    </tr>\n",
       "    <tr>\n",
       "      <th>4</th>\n",
       "      <td>5</td>\n",
       "      <td>2013-01-17 10:14:20</td>\n",
       "      <td>Raw Grace</td>\n",
       "      <td>GraceRaw@yahoo.com</td>\n",
       "      <td>GUEST_INVITE</td>\n",
       "      <td>2013-01-22 10:14:20</td>\n",
       "      <td>0</td>\n",
       "      <td>0</td>\n",
       "      <td>193</td>\n",
       "      <td>5240.0</td>\n",
       "      <td>0</td>\n",
       "      <td>1.0</td>\n",
       "      <td>0.000000</td>\n",
       "    </tr>\n",
       "  </tbody>\n",
       "</table>\n",
       "</div>"
      ],
      "text/plain": [
       "   object_id       creation_time               name  \\\n",
       "0          1 2014-04-22 03:53:30     Clausen August   \n",
       "1          2 2013-11-15 03:45:04      Poole Matthew   \n",
       "2          3 2013-03-19 23:14:52  Bottrill Mitchell   \n",
       "3          4 2013-05-21 08:09:28    Clausen Nicklas   \n",
       "4          5 2013-01-17 10:14:20          Raw Grace   \n",
       "\n",
       "                        email creation_source last_session_creation_time  \\\n",
       "0    AugustCClausen@yahoo.com    GUEST_INVITE        2014-04-22 03:53:30   \n",
       "1      MatthewPoole@gustr.com      ORG_INVITE        2014-03-31 03:45:04   \n",
       "2  MitchellBottrill@gustr.com      ORG_INVITE        2013-03-19 23:14:52   \n",
       "3   NicklasSClausen@yahoo.com    GUEST_INVITE        2013-05-22 08:09:28   \n",
       "4          GraceRaw@yahoo.com    GUEST_INVITE        2013-01-22 10:14:20   \n",
       "\n",
       "   opted_in_to_mailing_list  enabled_for_marketing_drip  org_id  \\\n",
       "0                         1                           0      11   \n",
       "1                         0                           0       1   \n",
       "2                         0                           0      94   \n",
       "3                         0                           0       1   \n",
       "4                         0                           0     193   \n",
       "\n",
       "   invited_by_user_id  adopted  total_logins  avg_days_between_logins  \n",
       "0             10803.0        0           1.0                 0.000000  \n",
       "1               316.0        1          14.0                 9.714286  \n",
       "2              1525.0        0           1.0                 0.000000  \n",
       "3              5151.0        0           1.0                 0.000000  \n",
       "4              5240.0        0           1.0                 0.000000  "
      ]
     },
     "execution_count": 284,
     "metadata": {},
     "output_type": "execute_result"
    }
   ],
   "source": [
    "df_users_eng = df_users_eng.sort_values(by=['user_id', 'time_stamp'])\n",
    "\n",
    "df_users_eng['days_between_logins'] = df_users_eng.groupby('user_id')['time_stamp'].diff().dt.days\n",
    "df_users_eng['days_between_logins'] = df_users_eng['days_between_logins'].fillna(0)\n",
    "\n",
    "average_days_df = df_users_eng.groupby('user_id')['days_between_logins'].mean().reset_index()\n",
    "average_days_df = average_days_df.rename(columns={'days_between_logins': 'avg_days_between_logins'})\n",
    "df_users = pd.merge(df_users, average_days_df[['user_id', 'avg_days_between_logins']], \n",
    "                     left_on='object_id', right_on='user_id', how='left')\n",
    "\n",
    "df_users.drop(columns=['user_id'],inplace=True)\n",
    "df_users.head()\n"
   ]
  },
  {
   "cell_type": "code",
   "execution_count": 285,
   "id": "6192c5b1-96b8-4a39-9874-ff32a0740003",
   "metadata": {},
   "outputs": [
    {
     "data": {
      "text/plain": [
       "object_id                     0\n",
       "creation_time                 0\n",
       "name                          0\n",
       "email                         0\n",
       "creation_source               0\n",
       "last_session_creation_time    0\n",
       "opted_in_to_mailing_list      0\n",
       "enabled_for_marketing_drip    0\n",
       "org_id                        0\n",
       "invited_by_user_id            0\n",
       "adopted                       0\n",
       "total_logins                  0\n",
       "avg_days_between_logins       0\n",
       "dtype: int64"
      ]
     },
     "execution_count": 285,
     "metadata": {},
     "output_type": "execute_result"
    }
   ],
   "source": [
    "# fill the NaN values\n",
    "df_users['avg_days_between_logins'] = df_users['avg_days_between_logins'].fillna(-1)\n",
    "df_users.isna().sum()"
   ]
  },
  {
   "cell_type": "code",
   "execution_count": 286,
   "id": "6d7343c6-11bf-4faa-8f69-a6b3994ebc23",
   "metadata": {},
   "outputs": [
    {
     "data": {
      "text/html": [
       "<div>\n",
       "<style scoped>\n",
       "    .dataframe tbody tr th:only-of-type {\n",
       "        vertical-align: middle;\n",
       "    }\n",
       "\n",
       "    .dataframe tbody tr th {\n",
       "        vertical-align: top;\n",
       "    }\n",
       "\n",
       "    .dataframe thead th {\n",
       "        text-align: right;\n",
       "    }\n",
       "</style>\n",
       "<table border=\"1\" class=\"dataframe\">\n",
       "  <thead>\n",
       "    <tr style=\"text-align: right;\">\n",
       "      <th></th>\n",
       "      <th>object_id</th>\n",
       "      <th>creation_time</th>\n",
       "      <th>name</th>\n",
       "      <th>email</th>\n",
       "      <th>creation_source</th>\n",
       "      <th>last_session_creation_time</th>\n",
       "      <th>opted_in_to_mailing_list</th>\n",
       "      <th>enabled_for_marketing_drip</th>\n",
       "      <th>org_id</th>\n",
       "      <th>invited_by_user_id</th>\n",
       "      <th>adopted</th>\n",
       "      <th>total_logins</th>\n",
       "      <th>avg_days_between_logins</th>\n",
       "      <th>weekend_logins</th>\n",
       "    </tr>\n",
       "  </thead>\n",
       "  <tbody>\n",
       "    <tr>\n",
       "      <th>0</th>\n",
       "      <td>1</td>\n",
       "      <td>2014-04-22 03:53:30</td>\n",
       "      <td>Clausen August</td>\n",
       "      <td>AugustCClausen@yahoo.com</td>\n",
       "      <td>GUEST_INVITE</td>\n",
       "      <td>2014-04-22 03:53:30</td>\n",
       "      <td>1</td>\n",
       "      <td>0</td>\n",
       "      <td>11</td>\n",
       "      <td>10803.0</td>\n",
       "      <td>0</td>\n",
       "      <td>1.0</td>\n",
       "      <td>0.000000</td>\n",
       "      <td>0.0</td>\n",
       "    </tr>\n",
       "    <tr>\n",
       "      <th>1</th>\n",
       "      <td>2</td>\n",
       "      <td>2013-11-15 03:45:04</td>\n",
       "      <td>Poole Matthew</td>\n",
       "      <td>MatthewPoole@gustr.com</td>\n",
       "      <td>ORG_INVITE</td>\n",
       "      <td>2014-03-31 03:45:04</td>\n",
       "      <td>0</td>\n",
       "      <td>0</td>\n",
       "      <td>1</td>\n",
       "      <td>316.0</td>\n",
       "      <td>1</td>\n",
       "      <td>14.0</td>\n",
       "      <td>9.714286</td>\n",
       "      <td>4.0</td>\n",
       "    </tr>\n",
       "    <tr>\n",
       "      <th>2</th>\n",
       "      <td>3</td>\n",
       "      <td>2013-03-19 23:14:52</td>\n",
       "      <td>Bottrill Mitchell</td>\n",
       "      <td>MitchellBottrill@gustr.com</td>\n",
       "      <td>ORG_INVITE</td>\n",
       "      <td>2013-03-19 23:14:52</td>\n",
       "      <td>0</td>\n",
       "      <td>0</td>\n",
       "      <td>94</td>\n",
       "      <td>1525.0</td>\n",
       "      <td>0</td>\n",
       "      <td>1.0</td>\n",
       "      <td>0.000000</td>\n",
       "      <td>0.0</td>\n",
       "    </tr>\n",
       "    <tr>\n",
       "      <th>3</th>\n",
       "      <td>4</td>\n",
       "      <td>2013-05-21 08:09:28</td>\n",
       "      <td>Clausen Nicklas</td>\n",
       "      <td>NicklasSClausen@yahoo.com</td>\n",
       "      <td>GUEST_INVITE</td>\n",
       "      <td>2013-05-22 08:09:28</td>\n",
       "      <td>0</td>\n",
       "      <td>0</td>\n",
       "      <td>1</td>\n",
       "      <td>5151.0</td>\n",
       "      <td>0</td>\n",
       "      <td>1.0</td>\n",
       "      <td>0.000000</td>\n",
       "      <td>0.0</td>\n",
       "    </tr>\n",
       "    <tr>\n",
       "      <th>4</th>\n",
       "      <td>5</td>\n",
       "      <td>2013-01-17 10:14:20</td>\n",
       "      <td>Raw Grace</td>\n",
       "      <td>GraceRaw@yahoo.com</td>\n",
       "      <td>GUEST_INVITE</td>\n",
       "      <td>2013-01-22 10:14:20</td>\n",
       "      <td>0</td>\n",
       "      <td>0</td>\n",
       "      <td>193</td>\n",
       "      <td>5240.0</td>\n",
       "      <td>0</td>\n",
       "      <td>1.0</td>\n",
       "      <td>0.000000</td>\n",
       "      <td>0.0</td>\n",
       "    </tr>\n",
       "    <tr>\n",
       "      <th>...</th>\n",
       "      <td>...</td>\n",
       "      <td>...</td>\n",
       "      <td>...</td>\n",
       "      <td>...</td>\n",
       "      <td>...</td>\n",
       "      <td>...</td>\n",
       "      <td>...</td>\n",
       "      <td>...</td>\n",
       "      <td>...</td>\n",
       "      <td>...</td>\n",
       "      <td>...</td>\n",
       "      <td>...</td>\n",
       "      <td>...</td>\n",
       "      <td>...</td>\n",
       "    </tr>\n",
       "    <tr>\n",
       "      <th>11995</th>\n",
       "      <td>11996</td>\n",
       "      <td>2013-09-06 06:14:15</td>\n",
       "      <td>Meier Sophia</td>\n",
       "      <td>SophiaMeier@gustr.com</td>\n",
       "      <td>ORG_INVITE</td>\n",
       "      <td>2013-09-06 06:14:15</td>\n",
       "      <td>0</td>\n",
       "      <td>0</td>\n",
       "      <td>89</td>\n",
       "      <td>8263.0</td>\n",
       "      <td>0</td>\n",
       "      <td>1.0</td>\n",
       "      <td>0.000000</td>\n",
       "      <td>0.0</td>\n",
       "    </tr>\n",
       "    <tr>\n",
       "      <th>11996</th>\n",
       "      <td>11997</td>\n",
       "      <td>2013-01-10 18:28:37</td>\n",
       "      <td>Fisher Amelie</td>\n",
       "      <td>AmelieFisher@gmail.com</td>\n",
       "      <td>SIGNUP_GOOGLE_AUTH</td>\n",
       "      <td>2013-01-15 18:28:37</td>\n",
       "      <td>0</td>\n",
       "      <td>0</td>\n",
       "      <td>200</td>\n",
       "      <td>0.0</td>\n",
       "      <td>0</td>\n",
       "      <td>1.0</td>\n",
       "      <td>0.000000</td>\n",
       "      <td>0.0</td>\n",
       "    </tr>\n",
       "    <tr>\n",
       "      <th>11997</th>\n",
       "      <td>11998</td>\n",
       "      <td>2014-04-27 12:45:16</td>\n",
       "      <td>Haynes Jake</td>\n",
       "      <td>JakeHaynes@cuvox.de</td>\n",
       "      <td>GUEST_INVITE</td>\n",
       "      <td>2014-04-27 12:45:16</td>\n",
       "      <td>1</td>\n",
       "      <td>1</td>\n",
       "      <td>83</td>\n",
       "      <td>8074.0</td>\n",
       "      <td>0</td>\n",
       "      <td>1.0</td>\n",
       "      <td>0.000000</td>\n",
       "      <td>1.0</td>\n",
       "    </tr>\n",
       "    <tr>\n",
       "      <th>11998</th>\n",
       "      <td>11999</td>\n",
       "      <td>2012-05-31 11:55:59</td>\n",
       "      <td>Faber Annett</td>\n",
       "      <td>mhaerzxp@iuxiw.com</td>\n",
       "      <td>PERSONAL_PROJECTS</td>\n",
       "      <td>2012-06-02 11:55:59</td>\n",
       "      <td>0</td>\n",
       "      <td>0</td>\n",
       "      <td>6</td>\n",
       "      <td>0.0</td>\n",
       "      <td>0</td>\n",
       "      <td>1.0</td>\n",
       "      <td>0.000000</td>\n",
       "      <td>1.0</td>\n",
       "    </tr>\n",
       "    <tr>\n",
       "      <th>11999</th>\n",
       "      <td>12000</td>\n",
       "      <td>2014-01-26 08:57:12</td>\n",
       "      <td>Lima Thaís</td>\n",
       "      <td>ThaisMeloLima@hotmail.com</td>\n",
       "      <td>SIGNUP</td>\n",
       "      <td>2014-01-26 08:57:12</td>\n",
       "      <td>0</td>\n",
       "      <td>1</td>\n",
       "      <td>0</td>\n",
       "      <td>0.0</td>\n",
       "      <td>0</td>\n",
       "      <td>1.0</td>\n",
       "      <td>0.000000</td>\n",
       "      <td>1.0</td>\n",
       "    </tr>\n",
       "  </tbody>\n",
       "</table>\n",
       "<p>12000 rows × 14 columns</p>\n",
       "</div>"
      ],
      "text/plain": [
       "       object_id       creation_time               name  \\\n",
       "0              1 2014-04-22 03:53:30     Clausen August   \n",
       "1              2 2013-11-15 03:45:04      Poole Matthew   \n",
       "2              3 2013-03-19 23:14:52  Bottrill Mitchell   \n",
       "3              4 2013-05-21 08:09:28    Clausen Nicklas   \n",
       "4              5 2013-01-17 10:14:20          Raw Grace   \n",
       "...          ...                 ...                ...   \n",
       "11995      11996 2013-09-06 06:14:15       Meier Sophia   \n",
       "11996      11997 2013-01-10 18:28:37      Fisher Amelie   \n",
       "11997      11998 2014-04-27 12:45:16        Haynes Jake   \n",
       "11998      11999 2012-05-31 11:55:59       Faber Annett   \n",
       "11999      12000 2014-01-26 08:57:12         Lima Thaís   \n",
       "\n",
       "                            email     creation_source  \\\n",
       "0        AugustCClausen@yahoo.com        GUEST_INVITE   \n",
       "1          MatthewPoole@gustr.com          ORG_INVITE   \n",
       "2      MitchellBottrill@gustr.com          ORG_INVITE   \n",
       "3       NicklasSClausen@yahoo.com        GUEST_INVITE   \n",
       "4              GraceRaw@yahoo.com        GUEST_INVITE   \n",
       "...                           ...                 ...   \n",
       "11995       SophiaMeier@gustr.com          ORG_INVITE   \n",
       "11996      AmelieFisher@gmail.com  SIGNUP_GOOGLE_AUTH   \n",
       "11997         JakeHaynes@cuvox.de        GUEST_INVITE   \n",
       "11998          mhaerzxp@iuxiw.com   PERSONAL_PROJECTS   \n",
       "11999   ThaisMeloLima@hotmail.com              SIGNUP   \n",
       "\n",
       "      last_session_creation_time  opted_in_to_mailing_list  \\\n",
       "0            2014-04-22 03:53:30                         1   \n",
       "1            2014-03-31 03:45:04                         0   \n",
       "2            2013-03-19 23:14:52                         0   \n",
       "3            2013-05-22 08:09:28                         0   \n",
       "4            2013-01-22 10:14:20                         0   \n",
       "...                          ...                       ...   \n",
       "11995        2013-09-06 06:14:15                         0   \n",
       "11996        2013-01-15 18:28:37                         0   \n",
       "11997        2014-04-27 12:45:16                         1   \n",
       "11998        2012-06-02 11:55:59                         0   \n",
       "11999        2014-01-26 08:57:12                         0   \n",
       "\n",
       "       enabled_for_marketing_drip  org_id  invited_by_user_id  adopted  \\\n",
       "0                               0      11             10803.0        0   \n",
       "1                               0       1               316.0        1   \n",
       "2                               0      94              1525.0        0   \n",
       "3                               0       1              5151.0        0   \n",
       "4                               0     193              5240.0        0   \n",
       "...                           ...     ...                 ...      ...   \n",
       "11995                           0      89              8263.0        0   \n",
       "11996                           0     200                 0.0        0   \n",
       "11997                           1      83              8074.0        0   \n",
       "11998                           0       6                 0.0        0   \n",
       "11999                           1       0                 0.0        0   \n",
       "\n",
       "       total_logins  avg_days_between_logins  weekend_logins  \n",
       "0               1.0                 0.000000             0.0  \n",
       "1              14.0                 9.714286             4.0  \n",
       "2               1.0                 0.000000             0.0  \n",
       "3               1.0                 0.000000             0.0  \n",
       "4               1.0                 0.000000             0.0  \n",
       "...             ...                      ...             ...  \n",
       "11995           1.0                 0.000000             0.0  \n",
       "11996           1.0                 0.000000             0.0  \n",
       "11997           1.0                 0.000000             1.0  \n",
       "11998           1.0                 0.000000             1.0  \n",
       "11999           1.0                 0.000000             1.0  \n",
       "\n",
       "[12000 rows x 14 columns]"
      ]
     },
     "execution_count": 286,
     "metadata": {},
     "output_type": "execute_result"
    }
   ],
   "source": [
    "df_users_eng['weekday'] = df_users_eng['time_stamp'].dt.weekday\n",
    "\n",
    "df_users_eng['is_weekend'] = df_users_eng['weekday'].apply(lambda x: 1 if x >= 5 else 0)\n",
    "\n",
    "login_counts = df_users_eng.groupby('user_id').agg(\n",
    "    weekend_logins=('is_weekend', lambda x: (x == 1).sum())\n",
    ").reset_index()\n",
    "\n",
    "df_users = pd.merge(df_users, login_counts, \n",
    "                     left_on='object_id', right_on='user_id', how='left')\n",
    "\n",
    "df_users.drop(columns=['user_id'],inplace=True)\n",
    "df_users"
   ]
  },
  {
   "cell_type": "code",
   "execution_count": 287,
   "id": "5ca388d3-ad67-4189-95af-ca877698d746",
   "metadata": {},
   "outputs": [],
   "source": [
    "df_users['weekend_logins'] = df_users['weekend_logins'].fillna(0)"
   ]
  },
  {
   "cell_type": "markdown",
   "id": "6ffa648b-1c28-4b2d-955d-286cffa70f09",
   "metadata": {},
   "source": [
    "# EDA"
   ]
  },
  {
   "cell_type": "code",
   "execution_count": 288,
   "id": "757c24e0-72ff-4570-a1c3-8115e3fca2d7",
   "metadata": {},
   "outputs": [
    {
     "data": {
      "image/png": "[encoded data removed]",
      "text/plain": [
       "<Figure size 640x480 with 1 Axes>"
      ]
     },
     "metadata": {},
     "output_type": "display_data"
    }
   ],
   "source": [
    "sns.countplot(x='adopted', data=df_users)\n",
    "plt.title('Distribution of Users')\n",
    "plt.xlabel('Adopted User (0: Not Adopted, 1: Adopted)')\n",
    "plt.ylabel('Count')\n",
    "plt.show()"
   ]
  },
  {
   "cell_type": "code",
   "execution_count": 289,
   "id": "da62db47-d895-452a-9999-8d645fb602c7",
   "metadata": {},
   "outputs": [
    {
     "data": {
      "image/png": "[encoded data removed]",
      "text/plain": [
       "<Figure size 640x480 with 1 Axes>"
      ]
     },
     "metadata": {},
     "output_type": "display_data"
    }
   ],
   "source": [
    "sns.boxplot(x='adopted', y='total_logins', data=df_users)\n",
    "plt.title('Total Logins by Adoption Status')\n",
    "plt.xlabel('Adopted User')\n",
    "plt.ylabel('Total_logins')\n",
    "plt.show()"
   ]
  },
  {
   "cell_type": "markdown",
   "id": "7eef4fb3-c5bf-4ead-9d21-694e17b001d5",
   "metadata": {},
   "source": [
    "Adopted users logged in more often than non-adopted users."
   ]
  },
  {
   "cell_type": "code",
   "execution_count": 290,
   "id": "56319660-645a-48ce-8d12-ade401ed5537",
   "metadata": {},
   "outputs": [
    {
     "data": {
      "image/png": "[encoded data removed]",
      "text/plain": [
       "<Figure size 640x480 with 1 Axes>"
      ]
     },
     "metadata": {},
     "output_type": "display_data"
    }
   ],
   "source": [
    "sns.boxplot(x='adopted', y='avg_days_between_logins', data=df_users)\n",
    "plt.title('Average days between logins by Adoption Status')\n",
    "plt.xlabel('Adopted User')\n",
    "plt.ylabel('Average Days Between Logins')\n",
    "plt.show()"
   ]
  },
  {
   "cell_type": "markdown",
   "id": "448eb29b-31da-4d01-9bd7-937a1d325bf5",
   "metadata": {},
   "source": [
    "Many of the non-adopted users logged in only once (negative as we filled the null values with -1), and a significant number of them had long intervals between logins."
   ]
  },
  {
   "cell_type": "code",
   "execution_count": 291,
   "id": "ccf5241e-1193-4fed-b5af-7d3dc9d0730a",
   "metadata": {},
   "outputs": [
    {
     "data": {
      "image/png": "[encoded data removed]",
      "text/plain": [
       "<Figure size 640x480 with 1 Axes>"
      ]
     },
     "metadata": {},
     "output_type": "display_data"
    }
   ],
   "source": [
    "sns.boxplot(x='adopted', y='weekend_logins', data=df_users)\n",
    "plt.title('Weekend logins by Adoption Status')\n",
    "plt.xlabel('Adopted User')\n",
    "plt.ylabel('Weekend logins')\n",
    "plt.show()"
   ]
  },
  {
   "cell_type": "markdown",
   "id": "01720936-3c2d-47de-9652-af242b0dfd02",
   "metadata": {},
   "source": [
    "Adopted users have more logins during weekends than non-adopted users."
   ]
  },
  {
   "cell_type": "code",
   "execution_count": 292,
   "id": "4fad6601-5c23-4c45-94d7-82c6b586e46b",
   "metadata": {},
   "outputs": [
    {
     "data": {
      "text/html": [
       "<div>\n",
       "<style scoped>\n",
       "    .dataframe tbody tr th:only-of-type {\n",
       "        vertical-align: middle;\n",
       "    }\n",
       "\n",
       "    .dataframe tbody tr th {\n",
       "        vertical-align: top;\n",
       "    }\n",
       "\n",
       "    .dataframe thead th {\n",
       "        text-align: right;\n",
       "    }\n",
       "</style>\n",
       "<table border=\"1\" class=\"dataframe\">\n",
       "  <thead>\n",
       "    <tr style=\"text-align: right;\">\n",
       "      <th></th>\n",
       "      <th>opted_in_to_mailing_list</th>\n",
       "      <th>enabled_for_marketing_drip</th>\n",
       "      <th>total_logins</th>\n",
       "      <th>avg_days_between_logins</th>\n",
       "      <th>weekend_logins</th>\n",
       "      <th>org_id</th>\n",
       "      <th>adopted</th>\n",
       "    </tr>\n",
       "  </thead>\n",
       "  <tbody>\n",
       "    <tr>\n",
       "      <th>opted_in_to_mailing_list</th>\n",
       "      <td>1.000000</td>\n",
       "      <td>0.483529</td>\n",
       "      <td>0.005379</td>\n",
       "      <td>-0.007057</td>\n",
       "      <td>0.004251</td>\n",
       "      <td>0.003432</td>\n",
       "      <td>0.008838</td>\n",
       "    </tr>\n",
       "    <tr>\n",
       "      <th>enabled_for_marketing_drip</th>\n",
       "      <td>0.483529</td>\n",
       "      <td>1.000000</td>\n",
       "      <td>0.003932</td>\n",
       "      <td>0.004070</td>\n",
       "      <td>0.003064</td>\n",
       "      <td>0.009275</td>\n",
       "      <td>0.006578</td>\n",
       "    </tr>\n",
       "    <tr>\n",
       "      <th>total_logins</th>\n",
       "      <td>0.005379</td>\n",
       "      <td>0.003932</td>\n",
       "      <td>1.000000</td>\n",
       "      <td>0.121281</td>\n",
       "      <td>0.997769</td>\n",
       "      <td>0.048736</td>\n",
       "      <td>0.637572</td>\n",
       "    </tr>\n",
       "    <tr>\n",
       "      <th>avg_days_between_logins</th>\n",
       "      <td>-0.007057</td>\n",
       "      <td>0.004070</td>\n",
       "      <td>0.121281</td>\n",
       "      <td>1.000000</td>\n",
       "      <td>0.120544</td>\n",
       "      <td>0.053486</td>\n",
       "      <td>0.403850</td>\n",
       "    </tr>\n",
       "    <tr>\n",
       "      <th>weekend_logins</th>\n",
       "      <td>0.004251</td>\n",
       "      <td>0.003064</td>\n",
       "      <td>0.997769</td>\n",
       "      <td>0.120544</td>\n",
       "      <td>1.000000</td>\n",
       "      <td>0.049271</td>\n",
       "      <td>0.634625</td>\n",
       "    </tr>\n",
       "    <tr>\n",
       "      <th>org_id</th>\n",
       "      <td>0.003432</td>\n",
       "      <td>0.009275</td>\n",
       "      <td>0.048736</td>\n",
       "      <td>0.053486</td>\n",
       "      <td>0.049271</td>\n",
       "      <td>1.000000</td>\n",
       "      <td>0.066995</td>\n",
       "    </tr>\n",
       "    <tr>\n",
       "      <th>adopted</th>\n",
       "      <td>0.008838</td>\n",
       "      <td>0.006578</td>\n",
       "      <td>0.637572</td>\n",
       "      <td>0.403850</td>\n",
       "      <td>0.634625</td>\n",
       "      <td>0.066995</td>\n",
       "      <td>1.000000</td>\n",
       "    </tr>\n",
       "  </tbody>\n",
       "</table>\n",
       "</div>"
      ],
      "text/plain": [
       "                            opted_in_to_mailing_list  \\\n",
       "opted_in_to_mailing_list                    1.000000   \n",
       "enabled_for_marketing_drip                  0.483529   \n",
       "total_logins                                0.005379   \n",
       "avg_days_between_logins                    -0.007057   \n",
       "weekend_logins                              0.004251   \n",
       "org_id                                      0.003432   \n",
       "adopted                                     0.008838   \n",
       "\n",
       "                            enabled_for_marketing_drip  total_logins  \\\n",
       "opted_in_to_mailing_list                      0.483529      0.005379   \n",
       "enabled_for_marketing_drip                    1.000000      0.003932   \n",
       "total_logins                                  0.003932      1.000000   \n",
       "avg_days_between_logins                       0.004070      0.121281   \n",
       "weekend_logins                                0.003064      0.997769   \n",
       "org_id                                        0.009275      0.048736   \n",
       "adopted                                       0.006578      0.637572   \n",
       "\n",
       "                            avg_days_between_logins  weekend_logins    org_id  \\\n",
       "opted_in_to_mailing_list                  -0.007057        0.004251  0.003432   \n",
       "enabled_for_marketing_drip                 0.004070        0.003064  0.009275   \n",
       "total_logins                               0.121281        0.997769  0.048736   \n",
       "avg_days_between_logins                    1.000000        0.120544  0.053486   \n",
       "weekend_logins                             0.120544        1.000000  0.049271   \n",
       "org_id                                     0.053486        0.049271  1.000000   \n",
       "adopted                                    0.403850        0.634625  0.066995   \n",
       "\n",
       "                             adopted  \n",
       "opted_in_to_mailing_list    0.008838  \n",
       "enabled_for_marketing_drip  0.006578  \n",
       "total_logins                0.637572  \n",
       "avg_days_between_logins     0.403850  \n",
       "weekend_logins              0.634625  \n",
       "org_id                      0.066995  \n",
       "adopted                     1.000000  "
      ]
     },
     "execution_count": 292,
     "metadata": {},
     "output_type": "execute_result"
    }
   ],
   "source": [
    "corr=df_users[['opted_in_to_mailing_list','enabled_for_marketing_drip', 'total_logins','avg_days_between_logins','weekend_logins', 'org_id','adopted']].corr()\n",
    "corr"
   ]
  },
  {
   "cell_type": "code",
   "execution_count": 293,
   "id": "29f0b35c-4eeb-4762-bba5-d4e416153ed9",
   "metadata": {},
   "outputs": [
    {
     "data": {
      "image/png": "[encoded data removed]",
      "text/plain": [
       "<Figure size 640x480 with 1 Axes>"
      ]
     },
     "metadata": {},
     "output_type": "display_data"
    }
   ],
   "source": [
    "sns.countplot(x=\"creation_source\",data=df_users,hue=\"adopted\") \n",
    "plt.tick_params(axis='x', labelrotation=45)\n",
    "plt.show()"
   ]
  },
  {
   "cell_type": "code",
   "execution_count": 294,
   "id": "17e38008-fd46-4077-b0a6-a1f0c8a1c191",
   "metadata": {},
   "outputs": [
    {
     "data": {
      "image/png": "[encoded data removed]",
      "text/plain": [
       "<Figure size 800x600 with 1 Axes>"
      ]
     },
     "metadata": {},
     "output_type": "display_data"
    }
   ],
   "source": [
    "adopted_by_mailing_list = pd.crosstab(df_users['opted_in_to_mailing_list'], df_users['adopted'])  \n",
    "\n",
    "\n",
    "adopted_by_mailing_list.plot(kind='bar', stacked=True, figsize=(8, 6))\n",
    "plt.title('Adopted vs Non-Adopted Users by Mailing List Opt-In Status')\n",
    "plt.xlabel('Opted in to Mailing List (0: No, 1: Yes)')\n",
    "plt.ylabel('Proportion')\n",
    "plt.xticks([0, 1], ['No', 'Yes']) \n",
    "plt.legend(['Not Adopted', 'Adopted'], loc='upper right')\n",
    "plt.show()"
   ]
  },
  {
   "cell_type": "code",
   "execution_count": 295,
   "id": "2b4d53b3-9427-4c38-a580-5b6bfbe0351e",
   "metadata": {},
   "outputs": [
    {
     "data": {
      "image/png": "[encoded data removed]",
      "text/plain": [
       "<Figure size 800x600 with 1 Axes>"
      ]
     },
     "metadata": {},
     "output_type": "display_data"
    }
   ],
   "source": [
    "adopted_by_marketing = pd.crosstab(df_users['enabled_for_marketing_drip'], df_users['adopted'])  \n",
    "\n",
    "adopted_by_marketing.plot(kind='bar', stacked=True, figsize=(8, 6))\n",
    "plt.title('Adopted vs Non-Adopted Users by marketing drip enabled Status')\n",
    "plt.xlabel('Enabled for marketing drip (0: No, 1: Yes)')\n",
    "plt.ylabel('Proportion')\n",
    "plt.xticks([0, 1], ['No', 'Yes']) \n",
    "plt.legend(['Not Adopted', 'Adopted'], loc='upper right')\n",
    "plt.show()"
   ]
  },
  {
   "cell_type": "code",
   "execution_count": 296,
   "id": "dee7e6ad-d1ae-44fd-81be-84cf968f3771",
   "metadata": {},
   "outputs": [],
   "source": [
    "features = ['opted_in_to_mailing_list', 'creation_source','enabled_for_marketing_drip', 'total_logins','avg_days_between_logins','weekend_logins', 'org_id']  \n",
    "target = 'adopted'"
   ]
  },
  {
   "cell_type": "code",
   "execution_count": 297,
   "id": "a8429c2c-e3eb-47fa-a3f8-a1981e641787",
   "metadata": {},
   "outputs": [],
   "source": [
    "df = df_users[features]"
   ]
  },
  {
   "cell_type": "code",
   "execution_count": 298,
   "id": "35972b29-bdfb-4892-bb30-e1358e5c251e",
   "metadata": {},
   "outputs": [],
   "source": [
    "df = pd.get_dummies(df, columns=['creation_source'], drop_first=True)"
   ]
  },
  {
   "cell_type": "code",
   "execution_count": 299,
   "id": "618f124f-4027-4144-99db-d0a6f88f3833",
   "metadata": {},
   "outputs": [
    {
     "name": "stdout",
     "output_type": "stream",
     "text": [
      "Cross-validation scores for each fold: [0.98272138 0.98488121 0.97186147 0.98484848 0.98051948]\n",
      "Mean accuracy: 0.9810\n",
      "Standard deviation of accuracy: 0.0048\n"
     ]
    }
   ],
   "source": [
    "X = df\n",
    "y = df_users[target]\n",
    "X_train, X_test, y_train, y_test = train_test_split(X, y, test_size=0.3, random_state=42)\n",
    "\n",
    "\n",
    "under_sampler = RandomUnderSampler(sampling_strategy='auto', random_state=42)\n",
    "X_res, y_res = under_sampler.fit_resample(X_train, y_train)\n",
    "\n",
    "\n",
    "RF_model = RandomForestClassifier(n_estimators=100, random_state=42)\n",
    "#cv = StratifiedKFold(n_splits=5, shuffle=True, random_state=42) \n",
    "\n",
    "cv_scores = cross_val_score(RF_model, X_res, y_res, cv=5, scoring='accuracy')\n",
    "\n",
    "print(f\"Cross-validation scores for each fold: {cv_scores}\")\n",
    "print(f\"Mean accuracy: {cv_scores.mean():.4f}\")\n",
    "print(f\"Standard deviation of accuracy: {cv_scores.std():.4f}\")"
   ]
  },
  {
   "cell_type": "code",
   "execution_count": 300,
   "id": "7358547c-3f54-45ba-8feb-9fcf679a0fcc",
   "metadata": {},
   "outputs": [
    {
     "name": "stdout",
     "output_type": "stream",
     "text": [
      "total_logins                          0.458160\n",
      "weekend_logins                        0.315354\n",
      "avg_days_between_logins               0.187043\n",
      "org_id                                0.024829\n",
      "creation_source_ORG_INVITE            0.002832\n",
      "opted_in_to_mailing_list              0.002744\n",
      "creation_source_PERSONAL_PROJECTS     0.002449\n",
      "enabled_for_marketing_drip            0.002217\n",
      "creation_source_SIGNUP_GOOGLE_AUTH    0.002200\n",
      "creation_source_SIGNUP                0.002173\n",
      "dtype: float64\n"
     ]
    }
   ],
   "source": [
    "RF_model.fit(X_train,y_train)\n",
    "importances = RF_model.feature_importances_\n",
    "feature_names = X.columns\n",
    "feature_importances = pd.Series(importances, index=feature_names).sort_values(ascending=False)\n",
    "print(feature_importances)"
   ]
  }
 ],
 "metadata": {
  "kernelspec": {
   "display_name": "Python 3 (ipykernel)",
   "language": "python",
   "name": "python3"
  },
  "language_info": {
   "codemirror_mode": {
    "name": "ipython",
    "version": 3
   },
   "file_extension": ".py",
   "mimetype": "text/x-python",
   "name": "python",
   "nbconvert_exporter": "python",
   "pygments_lexer": "ipython3",
   "version": "3.12.7"
  }
 },
 "nbformat": 4,
 "nbformat_minor": 5
}
